{
 "cells": [
  {
   "cell_type": "code",
   "execution_count": 6,
   "metadata": {},
   "outputs": [
    {
     "ename": "SyntaxError",
     "evalue": "invalid syntax (<ipython-input-6-9efe44771ae4>, line 2)",
     "output_type": "error",
     "traceback": [
      "\u001b[1;36m  File \u001b[1;32m\"<ipython-input-6-9efe44771ae4>\"\u001b[1;36m, line \u001b[1;32m2\u001b[0m\n\u001b[1;33m    silly_string = 'He said , \"Aren't can't wouldn't\"'\u001b[0m\n\u001b[1;37m                                    ^\u001b[0m\n\u001b[1;31mSyntaxError\u001b[0m\u001b[1;31m:\u001b[0m invalid syntax\n"
     ]
    }
   ],
   "source": [
    "       # silly string\n",
    "silly_string = 'He said , \"Aren't can't wouldn't\"'\n",
    "print (silly_string)         # its syntax error bcz starting quotation dont match with ending quotation.its should be matched\n"
   ]
  },
  {
   "cell_type": "code",
   "execution_count": 20,
   "metadata": {},
   "outputs": [
    {
     "name": "stdout",
     "output_type": "stream",
     "text": [
      "He said,\"Aren't can't wouldn't\"\n"
     ]
    }
   ],
   "source": [
    "silly_string = '''He said,\"Aren't can't wouldn't\"'''\n",
    "print(silly_string) # by using 3 single quote its correct syntax\n"
   ]
  },
  {
   "cell_type": "code",
   "execution_count": 12,
   "metadata": {},
   "outputs": [
    {
     "name": "stdout",
     "output_type": "stream",
     "text": [
      "He said, \"Aren't can't wouldn't shouldn't\"\n"
     ]
    }
   ],
   "source": [
    "        # single quote str by using forward slash with each apostrophe\n",
    "single_quote_str = 'He said, \"Aren\\'t can\\'t wouldn\\'t shouldn\\'t\"'\n",
    "print(single_quote_str)\n",
    "\n"
   ]
  },
  {
   "cell_type": "code",
   "execution_count": 24,
   "metadata": {},
   "outputs": [
    {
     "name": "stdout",
     "output_type": "stream",
     "text": [
      "He said,\"Aren't can't wouldn't shouldn't\"\n"
     ]
    }
   ],
   "source": [
    "       # Double quote str bu using forward slash\n",
    "double_quote_str = \"He said,\\\"Aren't can't wouldn't shouldn't\\\"\"\n",
    "print(double_quote_str)"
   ]
  },
  {
   "cell_type": "code",
   "execution_count": null,
   "metadata": {},
   "outputs": [],
   "source": []
  }
 ],
 "metadata": {
  "kernelspec": {
   "display_name": "Python 3",
   "language": "python",
   "name": "python3"
  },
  "language_info": {
   "codemirror_mode": {
    "name": "ipython",
    "version": 3
   },
   "file_extension": ".py",
   "mimetype": "text/x-python",
   "name": "python",
   "nbconvert_exporter": "python",
   "pygments_lexer": "ipython3",
   "version": "3.7.4"
  }
 },
 "nbformat": 4,
 "nbformat_minor": 2
}
